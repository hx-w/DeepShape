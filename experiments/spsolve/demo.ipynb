{
 "cells": [
  {
   "cell_type": "code",
   "execution_count": 2,
   "metadata": {},
   "outputs": [],
   "source": [
    "import numpy as np\n",
    "from scipy.sparse import csc_matrix\n",
    "\n",
    "# prepare data\n",
    "\n",
    "row = np.array([0, 2, 2, 0, 1, 2, 0])\n",
    "col = np.array([0, 0, 1, 2, 2, 2, 0])\n",
    "data = np.array([1, 2, 3, 4, 5, 6, 5])\n",
    "sp_A = csc_matrix((data, (row, col)), shape=(3, 3), dtype=float)"
   ]
  },
  {
   "cell_type": "code",
   "execution_count": 5,
   "metadata": {},
   "outputs": [
    {
     "name": "stdout",
     "output_type": "stream",
     "text": [
      "[0. 0. 1.]\n"
     ]
    }
   ],
   "source": [
    "from scipy.sparse.linalg import spsolve\n",
    "\n",
    "b = np.array([4, 5, 6])\n",
    "x = spsolve(sp_A, b)\n",
    "print(x)"
   ]
  },
  {
   "cell_type": "code",
   "execution_count": 171,
   "metadata": {},
   "outputs": [],
   "source": [
    "import numpy as np\n",
    "import numpy_indexed as npi\n",
    "import trimesh\n",
    "\n",
    "# read unstructured mesh\n",
    "uns_mesh: trimesh.Trimesh = trimesh.load_mesh('../../static/unsmesh/N2_modified.obj')"
   ]
  },
  {
   "cell_type": "code",
   "execution_count": 172,
   "metadata": {},
   "outputs": [
    {
     "name": "stdout",
     "output_type": "stream",
     "text": [
      "8666\n"
     ]
    }
   ],
   "source": [
    "# parameterize\n",
    "# output: inn_verts, bnd_verts\n",
    "\n",
    "bnd_edges = npi.difference(uns_mesh.edges_unique, uns_mesh.face_adjacency_edges)\n",
    "bnd_verts = np.array([*bnd_edges[0]])\n",
    "bnd_edges = np.delete(bnd_edges, [0], axis=0)\n",
    "\n",
    "success = True\n",
    "while success:\n",
    "    success = False\n",
    "    last = bnd_verts[-1]\n",
    "    for idx in range(len(bnd_edges)):\n",
    "        if last == bnd_edges[idx][0]:\n",
    "            success = True\n",
    "            last = bnd_edges[idx][1]\n",
    "        elif last == bnd_edges[idx][1]:\n",
    "            success = True\n",
    "            last = bnd_edges[idx][0]\n",
    "        if success:\n",
    "            bnd_verts = np.append(bnd_verts, last)\n",
    "            bnd_edges = np.delete(bnd_edges, [idx], axis=0)\n",
    "            break\n",
    "\n",
    "bnd_verts = bnd_verts[:-1] # last == first\n",
    "inn_verts = npi.difference(uns_mesh.face_adjacency_edges.flatten(), bnd_verts)"
   ]
  },
  {
   "cell_type": "code",
   "execution_count": null,
   "metadata": {},
   "outputs": [],
   "source": []
  }
 ],
 "metadata": {
  "kernelspec": {
   "display_name": "Python 3.9.13 64-bit",
   "language": "python",
   "name": "python3"
  },
  "language_info": {
   "codemirror_mode": {
    "name": "ipython",
    "version": 3
   },
   "file_extension": ".py",
   "mimetype": "text/x-python",
   "name": "python",
   "nbconvert_exporter": "python",
   "pygments_lexer": "ipython3",
   "version": "3.9.13"
  },
  "orig_nbformat": 4,
  "vscode": {
   "interpreter": {
    "hash": "65f4aab08c62330dab9a6da6865afb8d3706c114778798997f6b2f9c40d9bc3b"
   }
  }
 },
 "nbformat": 4,
 "nbformat_minor": 2
}
