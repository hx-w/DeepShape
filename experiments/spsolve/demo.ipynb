{
 "cells": [
  {
   "cell_type": "code",
   "execution_count": 2,
   "metadata": {},
   "outputs": [],
   "source": [
    "import numpy as np\n",
    "from scipy.sparse import csc_matrix\n",
    "\n",
    "# prepare data\n",
    "\n",
    "row = np.array([0, 2, 2, 0, 1, 2, 0])\n",
    "col = np.array([0, 0, 1, 2, 2, 2, 0])\n",
    "data = np.array([1, 2, 3, 4, 5, 6, 5])\n",
    "sp_A = csc_matrix((data, (row, col)), shape=(3, 3), dtype=float)"
   ]
  },
  {
   "cell_type": "code",
   "execution_count": 5,
   "metadata": {},
   "outputs": [
    {
     "name": "stdout",
     "output_type": "stream",
     "text": [
      "[0. 0. 1.]\n"
     ]
    }
   ],
   "source": [
    "from scipy.sparse.linalg import spsolve\n",
    "\n",
    "b = np.array([4, 5, 6])\n",
    "x = spsolve(sp_A, b)\n",
    "print(x)"
   ]
  },
  {
   "cell_type": "code",
   "execution_count": 258,
   "metadata": {},
   "outputs": [],
   "source": [
    "import numpy as np\n",
    "import trimesh\n",
    "\n",
    "# read unstructured mesh\n",
    "uns_mesh: trimesh.Trimesh = trimesh.load_mesh('../../static/unsmesh/N2_modified.obj')\n",
    "str_mesh = trimesh.Trimesh()\n",
    "\n",
    "def vert_dist(msh: trimesh.Trimesh, vidx1: int, vidx2: int) -> float:\n",
    "    return np.linalg.norm(\n",
    "        msh.vertices[vidx1] - msh.vertices[vidx2]\n",
    "    )"
   ]
  },
  {
   "cell_type": "code",
   "execution_count": 259,
   "metadata": {},
   "outputs": [],
   "source": [
    "# get mesh inner and boundary vertices\n",
    "# output:\n",
    "#   - inn_verts\n",
    "#   - bnd_verts\n",
    "#   - bnd_length\n",
    "import numpy_indexed as npi\n",
    "\n",
    "bnd_edges = npi.difference(uns_mesh.edges_unique, uns_mesh.face_adjacency_edges)\n",
    "bnd_verts = np.array([*bnd_edges[0]])\n",
    "bnd_edges = np.delete(bnd_edges, [0], axis=0)\n",
    "bnd_length = vert_dist(uns_mesh, *bnd_verts[:2])\n",
    "\n",
    "success = True\n",
    "while success:\n",
    "    success = False\n",
    "    last = bnd_verts[-1]\n",
    "    for idx in range(len(bnd_edges)):\n",
    "        if last == bnd_edges[idx][0]:\n",
    "            success = True\n",
    "            last = bnd_edges[idx][1]\n",
    "        elif last == bnd_edges[idx][1]:\n",
    "            success = True\n",
    "            last = bnd_edges[idx][0]\n",
    "        if success:\n",
    "            bnd_verts = np.append(bnd_verts, last)\n",
    "            bnd_edges = np.delete(bnd_edges, [idx], axis=0)\n",
    "            bnd_length += vert_dist(uns_mesh, *bnd_verts[-2:])\n",
    "            break\n",
    "\n",
    "inn_verts = npi.difference(uns_mesh.face_adjacency_edges.flatten(), bnd_verts)"
   ]
  },
  {
   "cell_type": "code",
   "execution_count": 260,
   "metadata": {},
   "outputs": [],
   "source": [
    "# parameterize bound to Square\n",
    "# assume Z=0.0 in str_mesh\n",
    "# output:\n",
    "#   - str_mesh.vertices (only boundary)\n",
    "\n",
    "from functools import reduce\n",
    "\n",
    "_scale = 2 # square edge length\n",
    "\n",
    "last_v = bnd_verts[0]\n",
    "accumed = 0.\n",
    "\n",
    "for bnd_v in bnd_verts[1:]:\n",
    "    old_ratio = accumed / bnd_length\n",
    "    accumed += vert_dist(uns_mesh, last_v, bnd_v)\n",
    "    ratio = accumed / bnd_length\n",
    "    flag = -reduce(\n",
    "        lambda x, y: x * (1 if (y - old_ratio) * (y - ratio) > 0 else -y),\n",
    "        [0.25, 0.5, 0.75],\n",
    "        1\n",
    "    )\n",
    "    ratio = max(ratio, flag)\n",
    "    vpos = (0., 0.)\n",
    "    if ratio < 0.25:\n",
    "        vpos = (-(_scale / 2) + _scale * (ratio / 0.25), -_scale / 2)\n",
    "    elif ratio < 0.5:\n",
    "        vpos = (_scale / 2,  -(_scale / 2) + _scale * ((ratio - 0.25) / 0.25))\n",
    "    elif ratio < 0.75:\n",
    "        vpos = ((_scale / 2) - _scale * ((ratio - 0.5) / 0.25), _scale / 2)\n",
    "    else:\n",
    "        vpos = (-_scale / 2, (_scale / 2) - _scale * ((ratio - 0.75) / 0.25))\n",
    "\n",
    "    str_mesh.vertices = np.vstack([str_mesh.vertices, np.append(vpos, 0.)])\n",
    "    last_v = bnd_v"
   ]
  },
  {
   "cell_type": "code",
   "execution_count": 262,
   "metadata": {},
   "outputs": [
    {
     "name": "stdout",
     "output_type": "stream",
     "text": [
      "[1.59368222e-01 1.29695403e-01 4.18641431e-02 ... 5.36682503e-02\n",
      " 5.19593470e-06 4.12151977e-03]\n",
      "[[ 3924  5625]\n",
      " [ 1666 10046]\n",
      " [    2 14336]\n",
      " ...\n",
      " [16934 16935]\n",
      " [ 3160 16935]\n",
      " [ 5768 16934]]\n"
     ]
    }
   ],
   "source": [
    "# initial weights\n",
    "from scipy.sparse import csc_matrix\n"
   ]
  }
 ],
 "metadata": {
  "kernelspec": {
   "display_name": "Python 3.9.13 64-bit",
   "language": "python",
   "name": "python3"
  },
  "language_info": {
   "codemirror_mode": {
    "name": "ipython",
    "version": 3
   },
   "file_extension": ".py",
   "mimetype": "text/x-python",
   "name": "python",
   "nbconvert_exporter": "python",
   "pygments_lexer": "ipython3",
   "version": "3.9.13"
  },
  "orig_nbformat": 4,
  "vscode": {
   "interpreter": {
    "hash": "65f4aab08c62330dab9a6da6865afb8d3706c114778798997f6b2f9c40d9bc3b"
   }
  }
 },
 "nbformat": 4,
 "nbformat_minor": 2
}
