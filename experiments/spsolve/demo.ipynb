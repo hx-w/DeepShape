{
 "cells": [
  {
   "cell_type": "code",
   "execution_count": 66,
   "metadata": {},
   "outputs": [],
   "source": [
    "import numpy as np\n",
    "import trimesh\n",
    "\n",
    "# read unstructured mesh\n",
    "uns_mesh: trimesh.Trimesh = trimesh.load_mesh('../../static/unsmesh/N8_modified.obj')\n",
    "str_mesh = trimesh.Trimesh()\n",
    "\n",
    "uns_mesh.fill_holes()\n",
    "uns_mesh.remove_duplicate_faces()\n",
    "\n",
    "def vert_dist(msh: trimesh.Trimesh, vidx1: int, vidx2: int) -> float:\n",
    "    return np.linalg.norm(\n",
    "        msh.vertices[vidx1] - msh.vertices[vidx2]\n",
    "    )"
   ]
  },
  {
   "cell_type": "code",
   "execution_count": 67,
   "metadata": {},
   "outputs": [],
   "source": [
    "# get mesh inner and boundary vertices\n",
    "# output:\n",
    "#   - inn_verts\n",
    "#   - bnd_verts\n",
    "#   - bnd_length\n",
    "import numpy_indexed as npi\n",
    "\n",
    "bnd_edges = npi.difference(uns_mesh.edges_unique, uns_mesh.face_adjacency_edges)\n",
    "\n",
    "bnd_verts = np.array([*bnd_edges[0]])\n",
    "bnd_edges = np.delete(bnd_edges, [0], axis=0)\n",
    "bnd_length = vert_dist(uns_mesh, *bnd_verts[:2])\n",
    "\n",
    "success = True\n",
    "while success:\n",
    "    success = False\n",
    "    last = bnd_verts[-1]\n",
    "    for idx, edge in enumerate(bnd_edges):\n",
    "        if last == edge[0]:\n",
    "            success = True\n",
    "            last = edge[1]\n",
    "        elif last == edge[1]:\n",
    "            success = True\n",
    "            last = edge[0]\n",
    "        if success:\n",
    "            bnd_verts = np.append(bnd_verts, last)\n",
    "            bnd_edges = np.delete(bnd_edges, [idx], axis=0)\n",
    "            bnd_length += vert_dist(uns_mesh, *bnd_verts[-2:])\n",
    "            break\n",
    "\n",
    "inn_verts = npi.difference(uns_mesh.face_adjacency_edges.flatten(), bnd_verts)"
   ]
  },
  {
   "cell_type": "code",
   "execution_count": 68,
   "metadata": {},
   "outputs": [],
   "source": [
    "# parameterize bound to Square\n",
    "# assume Z=0.0 in str_mesh\n",
    "# output:\n",
    "#   - f_B\n",
    "\n",
    "from functools import reduce\n",
    "\n",
    "_scale = 2 # square edge length\n",
    "\n",
    "last_v = bnd_verts[0]\n",
    "accumed = 0.\n",
    "\n",
    "bnd_verts = bnd_verts[1:]\n",
    "f_B = []\n",
    "\n",
    "for bnd_v in bnd_verts:\n",
    "    old_ratio = accumed / bnd_length\n",
    "    accumed += vert_dist(uns_mesh, last_v, bnd_v)\n",
    "    ratio = accumed / bnd_length\n",
    "    flag = -reduce(\n",
    "        lambda x, y: x * (1 if ((y - old_ratio) * (y - ratio)) > 0 else -y),\n",
    "        [0.25, 0.5, 0.75],\n",
    "        1\n",
    "    )\n",
    "    ratio = max(ratio, flag)\n",
    "    vpos = (0., 0.)\n",
    "    if ratio < 0.25:\n",
    "        vpos = (-(_scale / 2) + _scale * (ratio / 0.25), -_scale / 2)\n",
    "    elif ratio < 0.5:\n",
    "        vpos = (_scale / 2,  -(_scale / 2) + _scale * ((ratio - 0.25) / 0.25))\n",
    "    elif ratio < 0.75:\n",
    "        vpos = ((_scale / 2) - _scale * ((ratio - 0.5) / 0.25), _scale / 2)\n",
    "    else:\n",
    "        vpos = (-_scale / 2, (_scale / 2) - _scale * ((ratio - 0.75) / 0.25))\n",
    "\n",
    "    f_B.append(np.append(vpos, 0.))\n",
    "    last_v = bnd_v"
   ]
  },
  {
   "cell_type": "code",
   "execution_count": 74,
   "metadata": {},
   "outputs": [
    {
     "name": "stdout",
     "output_type": "stream",
     "text": [
      "1\n",
      "2\n",
      "6603 6603\n"
     ]
    }
   ],
   "source": [
    "# initial weights\n",
    "# keep row, col, data\n",
    "from scipy.sparse import csc_matrix\n",
    "\n",
    "def vectors_angle(msh: trimesh.Trimesh, mid: int, start: int, end: int) -> float:\n",
    "    vec1: np.array = msh.vertices[start] - msh.vertices[mid]\n",
    "    vec2: np.array = msh.vertices[end] - msh.vertices[mid]\n",
    "    return np.arccos(vec1.dot(vec2) / (np.linalg.norm(vec1) * np.linalg.norm(vec2)))\n",
    "\n",
    "def cot(angle: float) -> float:\n",
    "    return np.cos(angle) / np.sin(angle)\n",
    "\n",
    "# sparse matrix\n",
    "sp_row = np.array([], dtype=int)\n",
    "sp_col = np.array([], dtype=int)\n",
    "sp_data = np.array([], dtype=float)\n",
    "\n",
    "diag = np.zeros(len(uns_mesh.vertices))\n",
    "\n",
    "def weights_for_edge(edge: list) -> float:\n",
    "    adj_list_s = uns_mesh.vertex_neighbors[edge[0]]\n",
    "    adj_list_b = uns_mesh.vertex_neighbors[edge[1]]\n",
    "    adj_vts = npi.intersection(adj_list_s, adj_list_b)\n",
    "    # assert len(adj_vts) == 2, 'not a manifold'\n",
    "    # compute cotangent weight of edge\n",
    "    ang1 = vectors_angle(uns_mesh, adj_vts[0], *edge)\n",
    "    ang2 = vectors_angle(uns_mesh, adj_vts[1], *edge)\n",
    "    _w = (cot(ang1) + cot(ang2)) / 2\n",
    "    return -_w\n",
    "\n",
    "weights = list(map(weights_for_edge, uns_mesh.face_adjacency_edges))\n",
    "\n",
    "for idx, edge in enumerate(uns_mesh.face_adjacency_edges):\n",
    "    diag[edge[0]] += -weights[idx]\n",
    "    diag[edge[1]] += -weights[idx]\n",
    "\n",
    "# transpose\n",
    "sp_indices = uns_mesh.face_adjacency_edges.T\n",
    "sp_row = np.hstack([sp_row, sp_indices[0], sp_indices[1]])\n",
    "sp_col = np.hstack([sp_col, sp_indices[1], sp_indices[0]])\n",
    "sp_data = np.hstack([sp_data, weights, weights])\n",
    "\n",
    "# connect inn_verts and bnd_verts (ndarray)\n",
    "tot_verts = np.append(inn_verts, bnd_verts)\n",
    "\n",
    "print(len(tot_verts), len(uns_mesh.vertices))\n",
    "\n",
    "# extend diag values\n",
    "sp_diag_index = tot_verts\n",
    "sp_row = np.hstack([sp_row, sp_diag_index])\n",
    "sp_col = np.hstack([sp_col, sp_diag_index])\n",
    "sp_diag_data = [diag[v] for v in tot_verts] \n",
    "\n",
    "sp_data = np.hstack([sp_data, sp_diag_data])\n",
    "\n",
    "sp_weights = csc_matrix((sp_data, (sp_row, sp_col)), dtype=float)"
   ]
  },
  {
   "cell_type": "code",
   "execution_count": 70,
   "metadata": {},
   "outputs": [],
   "source": [
    "# solve linear system\n",
    "# split L_{I,I} and L_{I,B}\n",
    "len_inn = len(inn_verts)\n",
    "len_bnd = len(bnd_verts)\n",
    "sp_mid = sp_weights[inn_verts, ...]\n",
    "sp_weights_II = sp_mid[..., inn_verts]\n",
    "sp_weights_IB = sp_mid[..., bnd_verts]"
   ]
  },
  {
   "cell_type": "code",
   "execution_count": 71,
   "metadata": {},
   "outputs": [],
   "source": [
    "from scipy.sparse.linalg import spsolve\n",
    "# compute b = L_{BB}*f_B\n",
    "assert sp_weights_IB.shape[1] == len(f_B), 'L_IB * f_B illegal'\n",
    "\n",
    "b = -sp_weights_IB * f_B\n",
    "\n",
    "# solve L_II * f_I = b\n",
    "f_I = spsolve(sp_weights_II, b)"
   ]
  },
  {
   "cell_type": "code",
   "execution_count": 72,
   "metadata": {},
   "outputs": [],
   "source": [
    "# rebuild str_mesh\n",
    "# mapping: old to new index\n",
    "import copy\n",
    "\n",
    "param_bnd_verts = [v + len_inn for v in range(len_bnd)]\n",
    "inv_mapping = dict(zip(bnd_verts, param_bnd_verts))\n",
    "param_inn_verts = [v for v in range(len_inn)]\n",
    "inv_mapping.update(zip(inn_verts, param_inn_verts))\n",
    "# str_mesh.vertices = np.vstack([str_mesh.vertices, f_I])\n",
    "param_tot = np.append(f_I, f_B, axis=0)\n",
    "str_mesh.faces = copy.deepcopy(uns_mesh.faces)\n",
    "str_mesh.vertices = [\n",
    "    param_tot[inv_mapping[i]] for i in range(len_inn + len_bnd)\n",
    "]"
   ]
  },
  {
   "cell_type": "code",
   "execution_count": 73,
   "metadata": {},
   "outputs": [],
   "source": [
    "with open('save.obj', 'w') as ofile:\n",
    "    str_mesh.export(ofile, 'obj')"
   ]
  }
 ],
 "metadata": {
  "kernelspec": {
   "display_name": "Python 3.10.4 64-bit",
   "language": "python",
   "name": "python3"
  },
  "language_info": {
   "codemirror_mode": {
    "name": "ipython",
    "version": 3
   },
   "file_extension": ".py",
   "mimetype": "text/x-python",
   "name": "python",
   "nbconvert_exporter": "python",
   "pygments_lexer": "ipython3",
   "version": "3.10.4"
  },
  "orig_nbformat": 4,
  "vscode": {
   "interpreter": {
    "hash": "4f946df053fbf2b937619d3c5458e7af74262f9a954d8797ba0b27400bcafe06"
   }
  }
 },
 "nbformat": 4,
 "nbformat_minor": 2
}
