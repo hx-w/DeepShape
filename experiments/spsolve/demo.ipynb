{
 "cells": [
  {
   "cell_type": "code",
   "execution_count": 318,
   "metadata": {},
   "outputs": [],
   "source": [
    "import numpy as np\n",
    "from scipy.sparse import csc_matrix\n",
    "\n",
    "# prepare data\n",
    "\n",
    "row = np.array([0, 2, 2, 0, 1, 2, 0])\n",
    "col = np.array([0, 0, 1, 2, 2, 2, 0])\n",
    "data = np.array([1, 2, 3, 4, 5, 6, 5])\n",
    "sp_A = csc_matrix((data, (row, col)), dtype=float)"
   ]
  },
  {
   "cell_type": "code",
   "execution_count": 5,
   "metadata": {},
   "outputs": [
    {
     "name": "stdout",
     "output_type": "stream",
     "text": [
      "[0. 0. 1.]\n"
     ]
    }
   ],
   "source": [
    "from scipy.sparse.linalg import spsolve\n",
    "\n",
    "b = np.array([4, 5, 6])\n",
    "x = spsolve(sp_A, b)\n",
    "print(x)"
   ]
  },
  {
   "cell_type": "code",
   "execution_count": 314,
   "metadata": {},
   "outputs": [],
   "source": [
    "import numpy as np\n",
    "import trimesh\n",
    "\n",
    "# read unstructured mesh\n",
    "uns_mesh: trimesh.Trimesh = trimesh.load_mesh('../../static/unsmesh/N2_modified.obj')\n",
    "str_mesh = trimesh.Trimesh()\n",
    "\n",
    "uns_mesh.fill_holes()\n",
    "\n",
    "def vert_dist(msh: trimesh.Trimesh, vidx1: int, vidx2: int) -> float:\n",
    "    return np.linalg.norm(\n",
    "        msh.vertices[vidx1] - msh.vertices[vidx2]\n",
    "    )"
   ]
  },
  {
   "cell_type": "code",
   "execution_count": 315,
   "metadata": {},
   "outputs": [],
   "source": [
    "# get mesh inner and boundary vertices\n",
    "# output:\n",
    "#   - inn_verts\n",
    "#   - bnd_verts\n",
    "#   - bnd_length\n",
    "import numpy_indexed as npi\n",
    "\n",
    "bnd_edges = npi.difference(uns_mesh.edges_unique, uns_mesh.face_adjacency_edges)\n",
    "bnd_verts = np.array([*bnd_edges[0]])\n",
    "bnd_edges = np.delete(bnd_edges, [0], axis=0)\n",
    "bnd_length = vert_dist(uns_mesh, *bnd_verts[:2])\n",
    "\n",
    "success = True\n",
    "while success:\n",
    "    success = False\n",
    "    last = bnd_verts[-1]\n",
    "    for idx in range(len(bnd_edges)):\n",
    "        if last == bnd_edges[idx][0]:\n",
    "            success = True\n",
    "            last = bnd_edges[idx][1]\n",
    "        elif last == bnd_edges[idx][1]:\n",
    "            success = True\n",
    "            last = bnd_edges[idx][0]\n",
    "        if success:\n",
    "            bnd_verts = np.append(bnd_verts, last)\n",
    "            bnd_edges = np.delete(bnd_edges, [idx], axis=0)\n",
    "            bnd_length += vert_dist(uns_mesh, *bnd_verts[-2:])\n",
    "            break\n",
    "\n",
    "inn_verts = npi.difference(uns_mesh.face_adjacency_edges.flatten(), bnd_verts)"
   ]
  },
  {
   "cell_type": "code",
   "execution_count": 316,
   "metadata": {},
   "outputs": [],
   "source": [
    "# parameterize bound to Square\n",
    "# assume Z=0.0 in str_mesh\n",
    "# output:\n",
    "#   - str_mesh.vertices (only boundary)\n",
    "\n",
    "from functools import reduce\n",
    "\n",
    "_scale = 2 # square edge length\n",
    "\n",
    "last_v = bnd_verts[0]\n",
    "accumed = 0.\n",
    "\n",
    "for bnd_v in bnd_verts[1:]:\n",
    "    old_ratio = accumed / bnd_length\n",
    "    accumed += vert_dist(uns_mesh, last_v, bnd_v)\n",
    "    ratio = accumed / bnd_length\n",
    "    flag = -reduce(\n",
    "        lambda x, y: x * (1 if (y - old_ratio) * (y - ratio) > 0 else -y),\n",
    "        [0.25, 0.5, 0.75],\n",
    "        1\n",
    "    )\n",
    "    ratio = max(ratio, flag)\n",
    "    vpos = (0., 0.)\n",
    "    if ratio < 0.25:\n",
    "        vpos = (-(_scale / 2) + _scale * (ratio / 0.25), -_scale / 2)\n",
    "    elif ratio < 0.5:\n",
    "        vpos = (_scale / 2,  -(_scale / 2) + _scale * ((ratio - 0.25) / 0.25))\n",
    "    elif ratio < 0.75:\n",
    "        vpos = ((_scale / 2) - _scale * ((ratio - 0.5) / 0.25), _scale / 2)\n",
    "    else:\n",
    "        vpos = (-_scale / 2, (_scale / 2) - _scale * ((ratio - 0.75) / 0.25))\n",
    "\n",
    "    str_mesh.vertices = np.vstack([str_mesh.vertices, np.append(vpos, 0.)])\n",
    "    last_v = bnd_v"
   ]
  },
  {
   "cell_type": "code",
   "execution_count": 320,
   "metadata": {},
   "outputs": [
    {
     "ename": "TypeError",
     "evalue": "unhashable type: 'list'",
     "output_type": "error",
     "traceback": [
      "\u001b[0;31m---------------------------------------------------------------------------\u001b[0m",
      "\u001b[0;31mTypeError\u001b[0m                                 Traceback (most recent call last)",
      "\u001b[1;32m/Users/carol/Desktop/Repo/deepshape/experiments/spsolve/demo.ipynb Cell 6\u001b[0m in \u001b[0;36m<cell line: 17>\u001b[0;34m()\u001b[0m\n\u001b[1;32m     <a href='vscode-notebook-cell:/Users/carol/Desktop/Repo/deepshape/experiments/spsolve/demo.ipynb#ch0000008?line=26'>27</a>\u001b[0m     sp_col\u001b[39m.\u001b[39mappend(edge[\u001b[39m1\u001b[39m])\n\u001b[1;32m     <a href='vscode-notebook-cell:/Users/carol/Desktop/Repo/deepshape/experiments/spsolve/demo.ipynb#ch0000008?line=27'>28</a>\u001b[0m     sp_data\u001b[39m.\u001b[39mappend(\u001b[39m-\u001b[39mnp\u001b[39m.\u001b[39mcos(ang) \u001b[39m/\u001b[39m np\u001b[39m.\u001b[39msin(ang))\n\u001b[0;32m---> <a href='vscode-notebook-cell:/Users/carol/Desktop/Repo/deepshape/experiments/spsolve/demo.ipynb#ch0000008?line=28'>29</a>\u001b[0m     diag[sp_row] \u001b[39m+\u001b[39m\u001b[39m=\u001b[39m \u001b[39m-\u001b[39msp_data\n\u001b[1;32m     <a href='vscode-notebook-cell:/Users/carol/Desktop/Repo/deepshape/experiments/spsolve/demo.ipynb#ch0000008?line=29'>30</a>\u001b[0m     diag[sp_col] \u001b[39m+\u001b[39m\u001b[39m=\u001b[39m \u001b[39m-\u001b[39msp_data\n\u001b[1;32m     <a href='vscode-notebook-cell:/Users/carol/Desktop/Repo/deepshape/experiments/spsolve/demo.ipynb#ch0000008?line=31'>32</a>\u001b[0m sp_weights \u001b[39m=\u001b[39m csc_matrix((sp_data, (sp_row, sp_col)), dtype\u001b[39m=\u001b[39m\u001b[39mfloat\u001b[39m)\n",
      "\u001b[0;31mTypeError\u001b[0m: unhashable type: 'list'"
     ]
    }
   ],
   "source": [
    "# initial weights\n",
    "# keep row, col, data\n",
    "from scipy.sparse import csc_matrix\n",
    "\n",
    "\n",
    "def vectors_angle(msh: trimesh.Trimesh, mid: int, start: int, end: int) -> float:\n",
    "    vec1: np.array = msh.vertices[start] - msh.vertices[mid]\n",
    "    vec2: np.array = msh.vertices[end] - msh.vertices[mid]\n",
    "    return np.arccos(vec1.dot(vec2) / (np.linalg.norm(vec1) * np.linalg.norm(vec2)))\n",
    "\n",
    "sp_row = []\n",
    "sp_col = []\n",
    "sp_data = []\n",
    "\n",
    "diag = {}\n",
    "\n",
    "for edge in uns_mesh.face_adjacency_edges:\n",
    "    adj_list_s = uns_mesh.vertex_neighbors[edge[0]]\n",
    "    adj_list_b = uns_mesh.vertex_neighbors[edge[1]]\n",
    "    adj_vts = npi.intersection(adj_list_s, adj_list_b)\n",
    "    if len(adj_vts) != 2:\n",
    "        adj_vts = adj_vts[:2]\n",
    "    # assert len(adj_vts) == 2, 'not a manifold'\n",
    "    # compute cotangent weight of edge\n",
    "    ang = vectors_angle(uns_mesh, adj_vts[0], *edge)\n",
    "    sp_row.append(edge[0])\n",
    "    sp_col.append(edge[1])\n",
    "    sp_data.append(-np.cos(ang) / np.sin(ang))\n",
    "    diag[sp_row] += -sp_data\n",
    "    diag[sp_col] += -sp_data\n",
    "\n",
    "sp_weights = csc_matrix((sp_data, (sp_row, sp_col)), dtype=float)\n",
    "print(diag)"
   ]
  }
 ],
 "metadata": {
  "kernelspec": {
   "display_name": "Python 3.9.13 64-bit",
   "language": "python",
   "name": "python3"
  },
  "language_info": {
   "codemirror_mode": {
    "name": "ipython",
    "version": 3
   },
   "file_extension": ".py",
   "mimetype": "text/x-python",
   "name": "python",
   "nbconvert_exporter": "python",
   "pygments_lexer": "ipython3",
   "version": "3.9.13"
  },
  "orig_nbformat": 4,
  "vscode": {
   "interpreter": {
    "hash": "65f4aab08c62330dab9a6da6865afb8d3706c114778798997f6b2f9c40d9bc3b"
   }
  }
 },
 "nbformat": 4,
 "nbformat_minor": 2
}
