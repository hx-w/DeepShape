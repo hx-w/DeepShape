{
 "cells": [
  {
   "cell_type": "code",
   "execution_count": 1,
   "metadata": {},
   "outputs": [],
   "source": [
    "import numpy as np\n",
    "import trimesh\n",
    "\n",
    "# read unstructured mesh\n",
    "uns_mesh: trimesh.Trimesh = trimesh.load_mesh('../../static/unsmesh/N2_modified.obj')\n",
    "str_mesh = trimesh.Trimesh()\n",
    "\n",
    "uns_mesh.fill_holes()\n",
    "\n",
    "def vert_dist(msh: trimesh.Trimesh, vidx1: int, vidx2: int) -> float:\n",
    "    return np.linalg.norm(\n",
    "        msh.vertices[vidx1] - msh.vertices[vidx2]\n",
    "    )"
   ]
  },
  {
   "cell_type": "code",
   "execution_count": 2,
   "metadata": {},
   "outputs": [],
   "source": [
    "# get mesh inner and boundary vertices\n",
    "# output:\n",
    "#   - inn_verts\n",
    "#   - bnd_verts\n",
    "#   - bnd_length\n",
    "import numpy_indexed as npi\n",
    "\n",
    "bnd_edges = npi.difference(uns_mesh.edges_unique, uns_mesh.face_adjacency_edges)\n",
    "bnd_verts = np.array([*bnd_edges[0]])\n",
    "bnd_edges = np.delete(bnd_edges, [0], axis=0)\n",
    "bnd_length = vert_dist(uns_mesh, *bnd_verts[:2])\n",
    "\n",
    "success = True\n",
    "while success:\n",
    "    success = False\n",
    "    last = bnd_verts[-1]\n",
    "    for idx, edge in enumerate(bnd_edges):\n",
    "        if last == edge[0]:\n",
    "            success = True\n",
    "            last = edge[1]\n",
    "        elif last == edge[1]:\n",
    "            success = True\n",
    "            last = edge[0]\n",
    "        if success:\n",
    "            bnd_verts = np.append(bnd_verts, last)\n",
    "            bnd_edges = np.delete(bnd_edges, [idx], axis=0)\n",
    "            bnd_length += vert_dist(uns_mesh, *bnd_verts[-2:])\n",
    "            break\n",
    "\n",
    "inn_verts = npi.difference(uns_mesh.face_adjacency_edges.flatten(), bnd_verts)"
   ]
  },
  {
   "cell_type": "code",
   "execution_count": 3,
   "metadata": {},
   "outputs": [],
   "source": [
    "# parameterize bound to Square\n",
    "# assume Z=0.0 in str_mesh\n",
    "# output:\n",
    "#   - str_mesh.vertices (only boundary)\n",
    "\n",
    "from functools import reduce\n",
    "\n",
    "_scale = 2 # square edge length\n",
    "\n",
    "last_v = bnd_verts[0]\n",
    "accumed = 0.\n",
    "\n",
    "bnd_verts = bnd_verts[1:]\n",
    "for bnd_v in bnd_verts:\n",
    "    old_ratio = accumed / bnd_length\n",
    "    accumed += vert_dist(uns_mesh, last_v, bnd_v)\n",
    "    ratio = accumed / bnd_length\n",
    "    flag = -reduce(\n",
    "        lambda x, y: x * (1 if (y - old_ratio) * (y - ratio) > 0 else -y),\n",
    "        [0.25, 0.5, 0.75],\n",
    "        1\n",
    "    )\n",
    "    ratio = max(ratio, flag)\n",
    "    vpos = (0., 0.)\n",
    "    if ratio < 0.25:\n",
    "        vpos = (-(_scale / 2) + _scale * (ratio / 0.25), -_scale / 2)\n",
    "    elif ratio < 0.5:\n",
    "        vpos = (_scale / 2,  -(_scale / 2) + _scale * ((ratio - 0.25) / 0.25))\n",
    "    elif ratio < 0.75:\n",
    "        vpos = ((_scale / 2) - _scale * ((ratio - 0.5) / 0.25), _scale / 2)\n",
    "    else:\n",
    "        vpos = (-_scale / 2, (_scale / 2) - _scale * ((ratio - 0.75) / 0.25))\n",
    "\n",
    "    str_mesh.vertices = np.vstack([str_mesh.vertices, np.append(vpos, 0.)])\n",
    "    last_v = bnd_v"
   ]
  },
  {
   "cell_type": "code",
   "execution_count": 4,
   "metadata": {},
   "outputs": [
    {
     "name": "stdout",
     "output_type": "stream",
     "text": [
      "8666 8666\n"
     ]
    }
   ],
   "source": [
    "# initial weights\n",
    "# keep row, col, data\n",
    "from scipy.sparse import csc_matrix\n",
    "\n",
    "def vectors_angle(msh: trimesh.Trimesh, mid: int, start: int, end: int) -> float:\n",
    "    vec1: np.array = msh.vertices[start] - msh.vertices[mid]\n",
    "    vec2: np.array = msh.vertices[end] - msh.vertices[mid]\n",
    "    return np.arccos(vec1.dot(vec2) / (np.linalg.norm(vec1) * np.linalg.norm(vec2)))\n",
    "\n",
    "def cot(angle: float) -> float:\n",
    "    return np.cos(angle) / np.sin(angle)\n",
    "\n",
    "sp_row = []\n",
    "sp_col = []\n",
    "sp_data = []\n",
    "\n",
    "diag = np.zeros(len(uns_mesh.vertices))\n",
    "\n",
    "for edge in uns_mesh.face_adjacency_edges:\n",
    "    adj_list_s = uns_mesh.vertex_neighbors[edge[0]]\n",
    "    adj_list_b = uns_mesh.vertex_neighbors[edge[1]]\n",
    "    adj_vts = npi.intersection(adj_list_s, adj_list_b)\n",
    "    if len(adj_vts) != 2:\n",
    "        adj_vts = adj_vts[:2]\n",
    "    # assert len(adj_vts) == 2, 'not a manifold'\n",
    "    # compute cotangent weight of edge\n",
    "    ang1 = vectors_angle(uns_mesh, adj_vts[0], *edge)\n",
    "    ang2 = vectors_angle(uns_mesh, adj_vts[1], *edge)\n",
    "    _weight = (cot(ang1) + cot(ang2)) / 2\n",
    "\n",
    "    sp_row.append(edge[0])\n",
    "    sp_col.append(edge[1])\n",
    "    sp_data.append(-_weight)\n",
    "    sp_row.append(edge[1])\n",
    "    sp_col.append(edge[0])\n",
    "    sp_data.append(-_weight)\n",
    "\n",
    "    diag[edge[0]] += _weight\n",
    "    diag[edge[1]] += _weight\n",
    "\n",
    "# connect inn_verts and bnd_verts (ndarray)\n",
    "tot_verts = np.append(inn_verts, bnd_verts)\n",
    "\n",
    "print(len(tot_verts), len(uns_mesh.vertices))\n",
    "\n",
    "sp_diag_index = tot_verts\n",
    "sp_row.extend(sp_diag_index)\n",
    "sp_col.extend(sp_diag_index)\n",
    "sp_diag_data = [diag[v] for v in tot_verts] \n",
    "\n",
    "sp_data.extend(sp_diag_data)\n",
    "\n",
    "sp_weights = csc_matrix((sp_data, (sp_row, sp_col)), dtype=float)"
   ]
  },
  {
   "cell_type": "code",
   "execution_count": 5,
   "metadata": {},
   "outputs": [],
   "source": [
    "# solve linear system\n",
    "# split L_{I,I} and L_{I,B}\n",
    "len_inn = len(inn_verts)\n",
    "len_bnd = len(bnd_verts)\n",
    "sp_mid = sp_weights[inn_verts,...]\n",
    "sp_weights_II = sp_mid[...,inn_verts]\n",
    "sp_weights_IB = sp_mid[...,bnd_verts]"
   ]
  },
  {
   "cell_type": "code",
   "execution_count": null,
   "metadata": {},
   "outputs": [],
   "source": [
    "from scipy.sparse.linalg import spsolve\n",
    "# compute b = L_{BB}*f_B\n",
    "assert sp_weights_IB.shape[1] == len(str_mesh.vertices), 'L_IB * f_B illegal'\n",
    "\n",
    "b = sp_weights_IB * str_mesh.vertices\n",
    "\n",
    "# solve L_{II} * f_I = b\n",
    "f_I = spsolve(sp_weights_II, b)"
   ]
  },
  {
   "cell_type": "code",
   "execution_count": null,
   "metadata": {},
   "outputs": [],
   "source": [
    "# rebuild str_mesh\n",
    "\n",
    "# mapping: old to new index\n",
    "param_bnd_verts = [v for v in range(len_bnd)]\n",
    "inv_mapping = dict(zip(bnd_verts, param_bnd_verts))\n",
    "param_inn_verts = [v + len_bnd for v in range(len_inn)]\n",
    "inv_mapping.update(zip(inn_verts, param_inn_verts))\n",
    "str_mesh.vertices = np.vstack([str_mesh.vertices, f_I])"
   ]
  },
  {
   "cell_type": "code",
   "execution_count": null,
   "metadata": {},
   "outputs": [],
   "source": [
    "new_faces = list(\n",
    "   map(lambda tri: [inv_mapping[tri[0]], inv_mapping[tri[1]], inv_mapping[tri[2]]], uns_mesh.faces) \n",
    ")\n",
    "str_mesh.faces = new_faces\n",
    "\n",
    "with open('save.obj', 'w') as ofile:\n",
    "    str_mesh.export(ofile, 'obj')"
   ]
  }
 ],
 "metadata": {
  "kernelspec": {
   "display_name": "Python 3.10.4 64-bit",
   "language": "python",
   "name": "python3"
  },
  "language_info": {
   "codemirror_mode": {
    "name": "ipython",
    "version": 3
   },
   "file_extension": ".py",
   "mimetype": "text/x-python",
   "name": "python",
   "nbconvert_exporter": "python",
   "pygments_lexer": "ipython3",
   "version": "3.10.4"
  },
  "orig_nbformat": 4,
  "vscode": {
   "interpreter": {
    "hash": "4f946df053fbf2b937619d3c5458e7af74262f9a954d8797ba0b27400bcafe06"
   }
  }
 },
 "nbformat": 4,
 "nbformat_minor": 2
}
